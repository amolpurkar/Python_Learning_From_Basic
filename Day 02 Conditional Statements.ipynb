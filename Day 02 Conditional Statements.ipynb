{
 "cells": [
  {
   "cell_type": "markdown",
   "id": "5ea0daac",
   "metadata": {},
   "source": [
    "# Condition If else"
   ]
  },
  {
   "cell_type": "code",
   "execution_count": 5,
   "id": "6dc4baf5",
   "metadata": {},
   "outputs": [
    {
     "name": "stdout",
     "output_type": "stream",
     "text": [
      "Stop Vehicle Dont cross the road\n"
     ]
    }
   ],
   "source": [
    "a= \"Red\"\n",
    "\n",
    "if (a==\"Green\"):\n",
    "    print(\"You can cross the road\")\n",
    "elif (a==\"Yellow\"):\n",
    "    print(\"See carefully and cross the road\")\n",
    "elif (a==\"Red\"):\n",
    "    print(\"Stop Vehicle Dont cross the road\")\n",
    "else:\n",
    "    print(\"Something Wrong\")\n",
    "    \n"
   ]
  },
  {
   "cell_type": "markdown",
   "id": "3cc4366e",
   "metadata": {},
   "source": [
    "# Use Inpute"
   ]
  },
  {
   "cell_type": "code",
   "execution_count": 15,
   "id": "6634100b",
   "metadata": {},
   "outputs": [
    {
     "name": "stdout",
     "output_type": "stream",
     "text": [
      "Tell me the colour of Signal Red\n",
      "Stop Vehicle Dont cross the road\n"
     ]
    }
   ],
   "source": [
    "Light=input(\"Tell me the colour of Signal \")\n",
    "\n",
    "if (Light==\"Green\"):\n",
    "    print(\"You can cross the road\")\n",
    "elif (Light==\"Yellow\"):\n",
    "    print(\"See carefully and cross the road\")\n",
    "elif (Light==\"Red\"):\n",
    "    print(\"Stop Vehicle Dont cross the road\")\n",
    "else:\n",
    "    print(\"Something Wrong\")\n",
    "    "
   ]
  },
  {
   "cell_type": "markdown",
   "id": "f47645db",
   "metadata": {},
   "source": [
    "# Nested in If Condition"
   ]
  },
  {
   "cell_type": "code",
   "execution_count": 30,
   "id": "0eaf27eb",
   "metadata": {},
   "outputs": [
    {
     "name": "stdout",
     "output_type": "stream",
     "text": [
      "Enter the Age here 80\n",
      "You are over aged Not eligible for Driving License\n"
     ]
    }
   ],
   "source": [
    "age=eval(input(\"Enter the Age here \"))\n",
    "\n",
    "if age>=18:\n",
    "    if age >=80:\n",
    "        print(\"You are over aged Not eligible for Driving License\")\n",
    "    else:\n",
    "        print(\"You are eligible for Driving License\")\n",
    "else:\n",
    "    print(\"You are Not eligible for Driving License\")\n",
    "        \n",
    "    "
   ]
  },
  {
   "cell_type": "markdown",
   "id": "f33fda4b",
   "metadata": {},
   "source": [
    "# Find number is sum or even"
   ]
  },
  {
   "cell_type": "code",
   "execution_count": 42,
   "id": "fa2b4b3d",
   "metadata": {},
   "outputs": [
    {
     "name": "stdout",
     "output_type": "stream",
     "text": [
      "Enter number here 3\n",
      "Number is odd\n"
     ]
    }
   ],
   "source": [
    "Num=int(input(\"Enter number here \"))\n",
    "rem=Num % 2\n",
    "\n",
    "if (rem == 0):\n",
    "    print(\"Number is even \")\n",
    "else:\n",
    "    print(\"Number is odd\")"
   ]
  },
  {
   "cell_type": "code",
   "execution_count": null,
   "id": "49ac9c33",
   "metadata": {},
   "outputs": [],
   "source": []
  },
  {
   "cell_type": "markdown",
   "id": "375aff32",
   "metadata": {},
   "source": [
    "# String"
   ]
  },
  {
   "cell_type": "code",
   "execution_count": 43,
   "id": "cc7264c9",
   "metadata": {},
   "outputs": [],
   "source": [
    "A=\"I am 25 years old\""
   ]
  },
  {
   "cell_type": "code",
   "execution_count": 44,
   "id": "c63f9d4c",
   "metadata": {},
   "outputs": [
    {
     "data": {
      "text/plain": [
       "<function str.count>"
      ]
     },
     "execution_count": 44,
     "metadata": {},
     "output_type": "execute_result"
    }
   ],
   "source": [
    "A.co"
   ]
  },
  {
   "cell_type": "code",
   "execution_count": null,
   "id": "17edb758",
   "metadata": {},
   "outputs": [],
   "source": []
  }
 ],
 "metadata": {
  "kernelspec": {
   "display_name": "Python 3 (ipykernel)",
   "language": "python",
   "name": "python3"
  },
  "language_info": {
   "codemirror_mode": {
    "name": "ipython",
    "version": 3
   },
   "file_extension": ".py",
   "mimetype": "text/x-python",
   "name": "python",
   "nbconvert_exporter": "python",
   "pygments_lexer": "ipython3",
   "version": "3.11.7"
  }
 },
 "nbformat": 4,
 "nbformat_minor": 5
}
