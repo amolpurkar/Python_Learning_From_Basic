{
 "cells": [
  {
   "cell_type": "code",
   "execution_count": 1,
   "id": "db585d97",
   "metadata": {},
   "outputs": [
    {
     "name": "stdout",
     "output_type": "stream",
     "text": [
      "Hello World\n"
     ]
    }
   ],
   "source": [
    "print(\"Hello World\")"
   ]
  },
  {
   "cell_type": "code",
   "execution_count": 3,
   "id": "3738fc57",
   "metadata": {
    "scrolled": true
   },
   "outputs": [
    {
     "name": "stdout",
     "output_type": "stream",
     "text": [
      "My name is AMOl My age is 25\n"
     ]
    }
   ],
   "source": [
    "print(\"My name is AMOl\",\"My age is 25\")"
   ]
  },
  {
   "cell_type": "markdown",
   "id": "9ce25a22",
   "metadata": {},
   "source": [
    "# Data Types"
   ]
  },
  {
   "cell_type": "code",
   "execution_count": 15,
   "id": "01be9840",
   "metadata": {},
   "outputs": [],
   "source": [
    "A=\"Ram\"\n",
    "B=10\n",
    "C=1.5\n",
    "D=True\n",
    "E=None"
   ]
  },
  {
   "cell_type": "code",
   "execution_count": 8,
   "id": "65ced1e6",
   "metadata": {},
   "outputs": [
    {
     "data": {
      "text/plain": [
       "str"
      ]
     },
     "execution_count": 8,
     "metadata": {},
     "output_type": "execute_result"
    }
   ],
   "source": [
    "type(A)\n"
   ]
  },
  {
   "cell_type": "code",
   "execution_count": 9,
   "id": "91884294",
   "metadata": {},
   "outputs": [
    {
     "data": {
      "text/plain": [
       "int"
      ]
     },
     "execution_count": 9,
     "metadata": {},
     "output_type": "execute_result"
    }
   ],
   "source": [
    "type(B)\n"
   ]
  },
  {
   "cell_type": "code",
   "execution_count": 10,
   "id": "b99daf88",
   "metadata": {},
   "outputs": [
    {
     "data": {
      "text/plain": [
       "float"
      ]
     },
     "execution_count": 10,
     "metadata": {},
     "output_type": "execute_result"
    }
   ],
   "source": [
    "type(C)"
   ]
  },
  {
   "cell_type": "code",
   "execution_count": 16,
   "id": "e949a931",
   "metadata": {},
   "outputs": [
    {
     "data": {
      "text/plain": [
       "bool"
      ]
     },
     "execution_count": 16,
     "metadata": {},
     "output_type": "execute_result"
    }
   ],
   "source": [
    "type(D)"
   ]
  },
  {
   "cell_type": "code",
   "execution_count": 17,
   "id": "6ce99ca5",
   "metadata": {},
   "outputs": [
    {
     "data": {
      "text/plain": [
       "NoneType"
      ]
     },
     "execution_count": 17,
     "metadata": {},
     "output_type": "execute_result"
    }
   ],
   "source": [
    "type(E)"
   ]
  },
  {
   "cell_type": "markdown",
   "id": "9368aa97",
   "metadata": {},
   "source": [
    "# Python is CASE Sensetive"
   ]
  },
  {
   "cell_type": "code",
   "execution_count": 11,
   "id": "6608abd3",
   "metadata": {},
   "outputs": [
    {
     "name": "stdout",
     "output_type": "stream",
     "text": [
      "Amol\n"
     ]
    }
   ],
   "source": [
    "print(\"Amol\")"
   ]
  },
  {
   "cell_type": "code",
   "execution_count": 12,
   "id": "e6a61c71",
   "metadata": {},
   "outputs": [
    {
     "name": "stdout",
     "output_type": "stream",
     "text": [
      "amol\n"
     ]
    }
   ],
   "source": [
    "print(\"amol\")"
   ]
  },
  {
   "cell_type": "code",
   "execution_count": 13,
   "id": "4426871e",
   "metadata": {},
   "outputs": [
    {
     "name": "stdout",
     "output_type": "stream",
     "text": [
      "13\n"
     ]
    }
   ],
   "source": [
    "a=5\n",
    "b=8\n",
    "sum=a+b\n",
    "print(sum)"
   ]
  },
  {
   "cell_type": "code",
   "execution_count": 18,
   "id": "ea72e763",
   "metadata": {},
   "outputs": [
    {
     "name": "stdout",
     "output_type": "stream",
     "text": [
      "Addition 12\n",
      "Substraction 8\n",
      "Divide 5.0\n",
      "Multiple 20\n"
     ]
    }
   ],
   "source": [
    "a=10\n",
    "b=2\n",
    "print(\"Addition\",a+b)\n",
    "print(\"Substraction\",a-b)\n",
    "print(\"Divide\",a/b)\n",
    "print(\"Multiple\",a*b)"
   ]
  },
  {
   "cell_type": "code",
   "execution_count": null,
   "id": "ca3a9ccd",
   "metadata": {},
   "outputs": [],
   "source": []
  }
 ],
 "metadata": {
  "kernelspec": {
   "display_name": "Python 3 (ipykernel)",
   "language": "python",
   "name": "python3"
  },
  "language_info": {
   "codemirror_mode": {
    "name": "ipython",
    "version": 3
   },
   "file_extension": ".py",
   "mimetype": "text/x-python",
   "name": "python",
   "nbconvert_exporter": "python",
   "pygments_lexer": "ipython3",
   "version": "3.11.7"
  }
 },
 "nbformat": 4,
 "nbformat_minor": 5
}
