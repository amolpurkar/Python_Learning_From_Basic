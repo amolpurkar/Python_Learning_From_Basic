{
 "cells": [
  {
   "cell_type": "code",
   "execution_count": 5,
   "id": "0f349335",
   "metadata": {},
   "outputs": [],
   "source": [
    "import shutil"
   ]
  },
  {
   "cell_type": "code",
   "execution_count": null,
   "id": "899498ec",
   "metadata": {},
   "outputs": [],
   "source": [
    "shutil.copy(\"Task.py\",\"task2.py\")"
   ]
  },
  {
   "cell_type": "markdown",
   "id": "0ed8e872",
   "metadata": {},
   "source": [
    "# copy folder and create new folder and past on it "
   ]
  },
  {
   "cell_type": "code",
   "execution_count": 4,
   "id": "5a332973",
   "metadata": {
    "scrolled": true
   },
   "outputs": [
    {
     "data": {
      "text/plain": [
       "'C:\\\\Users\\\\Amol\\\\Desktop\\\\Tk'"
      ]
     },
     "execution_count": 4,
     "metadata": {},
     "output_type": "execute_result"
    }
   ],
   "source": [
    "\n",
    "shutil.copytree(r\"C:\\Users\\Amol\\Desktop\\Task\",r\"C:\\Users\\Amol\\Desktop\\Tk\")"
   ]
  },
  {
   "cell_type": "markdown",
   "id": "a1b79fb3",
   "metadata": {},
   "source": [
    "# Move"
   ]
  },
  {
   "cell_type": "code",
   "execution_count": 11,
   "id": "283a242f",
   "metadata": {},
   "outputs": [],
   "source": [
    "#move(Path,File)"
   ]
  },
  {
   "cell_type": "code",
   "execution_count": 10,
   "id": "f69e7788",
   "metadata": {},
   "outputs": [
    {
     "data": {
      "text/plain": [
       "'C:\\\\Users\\\\Amol\\\\Desktop\\\\Python\\\\shutil.pdf'"
      ]
     },
     "execution_count": 10,
     "metadata": {},
     "output_type": "execute_result"
    }
   ],
   "source": [
    "shutil.move(r\"C:\\Users\\Amol\\Desktop\\Python.file\",r\"C:\\Users\\Amol\\Desktop\\Python\\shutil.pdf\")"
   ]
  },
  {
   "cell_type": "code",
   "execution_count": null,
   "id": "e501f72a",
   "metadata": {},
   "outputs": [],
   "source": []
  }
 ],
 "metadata": {
  "kernelspec": {
   "display_name": "Python 3 (ipykernel)",
   "language": "python",
   "name": "python3"
  },
  "language_info": {
   "codemirror_mode": {
    "name": "ipython",
    "version": 3
   },
   "file_extension": ".py",
   "mimetype": "text/x-python",
   "name": "python",
   "nbconvert_exporter": "python",
   "pygments_lexer": "ipython3",
   "version": "3.11.7"
  }
 },
 "nbformat": 4,
 "nbformat_minor": 5
}
